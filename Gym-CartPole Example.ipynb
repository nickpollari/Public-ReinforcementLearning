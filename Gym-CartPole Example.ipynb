{
 "cells": [
  {
   "cell_type": "code",
   "execution_count": 1,
   "metadata": {
    "scrolled": true
   },
   "outputs": [],
   "source": [
    "import gym\n",
    "import matplotlib.pyplot as plt\n",
    "%matplotlib inline\n",
    "\n",
    "env = gym.make('CartPole-v0')\n",
    "for i_episode in range(20):\n",
    "    observation = env.reset()\n",
    "    for t in range(100):\n",
    "        env.render(mode='rgb_array', close=False)\n",
    "#         print(observation)\n",
    "        action = env.action_space.sample()\n",
    "        observation, reward, done, info = env.step(action)\n",
    "        if done:\n",
    "#             print(\"Episode finished after {} timesteps\".format(t+1))\n",
    "            break"
   ]
  },
  {
   "cell_type": "code",
   "execution_count": null,
   "metadata": {
    "collapsed": true
   },
   "outputs": [],
   "source": [
    "# Understanding the env \"step\" call and what it has\n",
    "# link: https://gym.openai.com/docs/\n",
    "# The step function returns 4 pieces of information\n",
    "# 1. observation (object) -  environment specific object representing\n",
    "#    your observation of the environment. For example; Pixel data from\n",
    "#    a camera, joint angles and joint velocities of a robot, or the board\n",
    "#    state in a board game\n",
    "# 2. reward (float) - amount of reward achieved by the previous action.\n",
    "#    The scale varies between environments, but the goal is always to\n",
    "#    increase your total reward.\n",
    "# 3. done (bool) - whether its time to \"reset\" the environment again.\n",
    "#    Most (but not all) tasks are divided up into well-defined episodes,\n",
    "#    and done being \"True\" indicates the episode has terminated.\n",
    "#    For example, perhaps the pole tipped too far, or you lost\n",
    "#    your last life.\n",
    "# 4. info (dict) - diagnositc information useful for debugging. It can\n",
    "#    sometimes be useful for learning (for example it might contain the\n",
    "#    raw probabilities beind the environments last state chance).\n",
    "#    However, official evaluations of your agent are not allowed\n",
    "#    to use this for learning."
   ]
  },
  {
   "cell_type": "code",
   "execution_count": null,
   "metadata": {},
   "outputs": [],
   "source": []
  }
 ],
 "metadata": {
  "kernelspec": {
   "display_name": "Python 2",
   "language": "python",
   "name": "python2"
  },
  "language_info": {
   "codemirror_mode": {
    "name": "ipython",
    "version": 2
   },
   "file_extension": ".py",
   "mimetype": "text/x-python",
   "name": "python",
   "nbconvert_exporter": "python",
   "pygments_lexer": "ipython2",
   "version": "2.7.14"
  }
 },
 "nbformat": 4,
 "nbformat_minor": 2
}
