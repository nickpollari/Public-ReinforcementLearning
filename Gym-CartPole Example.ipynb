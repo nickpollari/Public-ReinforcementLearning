{
 "cells": [
  {
   "cell_type": "code",
   "execution_count": 1,
   "metadata": {
    "scrolled": true
   },
   "outputs": [],
   "source": [
    "import gym\n",
    "import matplotlib.pyplot as plt\n",
    "%matplotlib inline\n",
    "\n",
    "env = gym.make('CartPole-v0')\n",
    "for i_episode in range(20):\n",
    "    observation = env.reset()\n",
    "    for t in range(100):\n",
    "        env.render(mode='rgb_array', close=False)\n",
    "#         print(observation)\n",
    "        action = env.action_space.sample()\n",
    "        observation, reward, done, info = env.step(action)\n",
    "        if done:\n",
    "#             print(\"Episode finished after {} timesteps\".format(t+1))\n",
    "            break"
   ]
  },
  {
   "cell_type": "code",
   "execution_count": null,
   "metadata": {
    "collapsed": true
   },
   "outputs": [],
   "source": [
    "# Understanding the env \"step\" call and what it has\n",
    "# link: https://gym.openai.com/docs/\n",
    "# The step function returns 4 pieces of information\n",
    "# 1. observation (object) -  environment specific object representing\n",
    "#    your observation of the environment. For example; Pixel data from\n",
    "#    a camera, joint angles and joint velocities of a robot, or the board\n",
    "#    state in a board game\n",
    "# 2. reward (float) - amount of reward achieved by the previous action.\n",
    "#    The scale varies between environments, but the goal is always to\n",
    "#    increase your total reward.\n",
    "# 3. done (bool) - whether its time to \"reset\" the environment again.\n",
    "#    Most (but not all) tasks are divided up into well-defined episodes,\n",
    "#    and done being \"True\" indicates the episode has terminated.\n",
    "#    For example, perhaps the pole tipped too far, or you lost\n",
    "#    your last life.\n",
    "# 4. info (dict) - diagnositc information useful for debugging. It can\n",
    "#    sometimes be useful for learning (for example it might contain the\n",
    "#    raw probabilities beind the environments last state chance).\n",
    "#    However, official evaluations of your agent are not allowed\n",
    "#    to use this for learning."
   ]
  },
  {
   "cell_type": "code",
   "execution_count": null,
   "metadata": {},
   "outputs": [],
   "source": [
    "# Some Notes\n",
    "# Every environemnt comes with \"Space\" objects that describe the\n",
    "# valid actions and observations.\n",
    "# ie: \n",
    "# import gym\n",
    "# env = gym.make('CartPole-v0')\n",
    "# print(env.action_space)\n",
    "# > Discrete(2)\n",
    "# print(env.observation_space)\n",
    "# > Box(4,)\n",
    "\n",
    "# The Discrete space allows for a fixed range of non-negative numebers,\n",
    "# so in this case valid \"action\"s are either 0 or 1. The Box space\n",
    "# represents an n-dimensional box, so valid observations will be an\n",
    "# array of 4 numbers. We can also check the Box bounds:\n",
    "\n",
    "# print(env.observation_space.high)\n",
    "# > array([2.4, inf, 0.2094, inf])\n",
    "# print(env.observation_space.low)\n",
    "# > array([-2.4, -inf, -0.2094, -inf])\n",
    "\n",
    "# this introspection can be helpful to write generic code that works\n",
    "# for many different environments. Box and Discrete are the most common\n",
    "# \"Space\"s. You can sample from a \"Space\" or check that something\n",
    "# belongs to it:\n",
    "\n",
    "# ie: \n",
    "# from gym import spaces\n",
    "# space = spaces.Discrete(8) # Set with 8 elements {0, 1, 2, ..., 7}\n",
    "# x = space.sample()\n",
    "# assert space.contains(x)\n",
    "# assert space.n == 8"
   ]
  },
  {
   "cell_type": "code",
   "execution_count": null,
   "metadata": {
    "collapsed": true
   },
   "outputs": [],
   "source": [
    "# For the CartPole-v0 one of the actions applies force to the\n",
    "# left, and one of them applies force to the right."
   ]
  }
 ],
 "metadata": {
  "kernelspec": {
   "display_name": "Python 2",
   "language": "python",
   "name": "python2"
  },
  "language_info": {
   "codemirror_mode": {
    "name": "ipython",
    "version": 2
   },
   "file_extension": ".py",
   "mimetype": "text/x-python",
   "name": "python",
   "nbconvert_exporter": "python",
   "pygments_lexer": "ipython2",
   "version": "2.7.14"
  }
 },
 "nbformat": 4,
 "nbformat_minor": 2
}
